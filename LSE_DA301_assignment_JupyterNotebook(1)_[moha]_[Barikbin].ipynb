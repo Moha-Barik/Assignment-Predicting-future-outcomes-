{
 "cells": [
  {
   "cell_type": "markdown",
   "id": "31a887e4-39fe-4a69-9da6-e03e57a0e5d3",
   "metadata": {},
   "source": [
    "# Assignment activity 1 "
   ]
  },
  {
   "cell_type": "markdown",
   "id": "e80b23a8-47c5-493e-9903-f6c09f443eae",
   "metadata": {},
   "source": [
    "Determine the optimal price at which they should sell Lego products based on the number of Lego pieces in the Lego set and the age of the customer that the product is most likely to be purchased by. \n",
    "\n",
    "### - What price should be set for the Lego sets with 8000 Lego pieces? (Simple linear regression)\n",
    "\n",
    "#### <span style=\"color:green\"> 782.84  </span>\n",
    "\n",
    "### - What price should be set for the Lego sets with 8000 Lego pieces that are most likely to be purchased by 30-year-old customers? (Multiple linear regression)\n",
    "\n",
    "#### <span style=\"color:green\">  253.31  </span>"
   ]
  },
  {
   "cell_type": "code",
   "execution_count": 1,
   "id": "20834359-d52f-43f8-b600-47a148929b5c",
   "metadata": {},
   "outputs": [
    {
     "name": "stderr",
     "output_type": "stream",
     "text": [
      "/Users/mohabarikbin/opt/anaconda3/lib/python3.9/site-packages/scipy/__init__.py:146: UserWarning: A NumPy version >=1.16.5 and <1.23.0 is required for this version of SciPy (detected version 1.23.0\n",
      "  warnings.warn(f\"A NumPy version >={np_minversion} and <{np_maxversion}\"\n"
     ]
    }
   ],
   "source": [
    "#Import all the necessary packages:\n",
    "import numpy as np\n",
    "import pandas as pd\n",
    "import matplotlib.pyplot as plt\n",
    "import statsmodels.api as sm\n",
    "import seaborn as sns\n",
    "from statsmodels.formula.api import ols\n",
    "import sklearn\n",
    "\n",
    "from sklearn import datasets \n",
    "from sklearn import linear_model\n",
    "from sklearn.model_selection import train_test_split\n",
    "from sklearn import metrics\n",
    "from sklearn.linear_model import LinearRegression"
   ]
  },
  {
   "cell_type": "code",
   "execution_count": 2,
   "id": "4d2016cb-eb57-4210-94f8-0a18cf3885bd",
   "metadata": {},
   "outputs": [
    {
     "data": {
      "text/html": [
       "<div>\n",
       "<style scoped>\n",
       "    .dataframe tbody tr th:only-of-type {\n",
       "        vertical-align: middle;\n",
       "    }\n",
       "\n",
       "    .dataframe tbody tr th {\n",
       "        vertical-align: top;\n",
       "    }\n",
       "\n",
       "    .dataframe thead th {\n",
       "        text-align: right;\n",
       "    }\n",
       "</style>\n",
       "<table border=\"1\" class=\"dataframe\">\n",
       "  <thead>\n",
       "    <tr style=\"text-align: right;\">\n",
       "      <th></th>\n",
       "      <th>ages</th>\n",
       "      <th>list_price</th>\n",
       "      <th>num_reviews</th>\n",
       "      <th>piece_count</th>\n",
       "      <th>play_star_rating</th>\n",
       "      <th>review_difficulty</th>\n",
       "      <th>country</th>\n",
       "    </tr>\n",
       "  </thead>\n",
       "  <tbody>\n",
       "    <tr>\n",
       "      <th>0</th>\n",
       "      <td>19</td>\n",
       "      <td>29.99</td>\n",
       "      <td>2</td>\n",
       "      <td>277</td>\n",
       "      <td>4.0</td>\n",
       "      <td>0</td>\n",
       "      <td>20</td>\n",
       "    </tr>\n",
       "    <tr>\n",
       "      <th>1</th>\n",
       "      <td>19</td>\n",
       "      <td>19.99</td>\n",
       "      <td>2</td>\n",
       "      <td>168</td>\n",
       "      <td>4.0</td>\n",
       "      <td>2</td>\n",
       "      <td>20</td>\n",
       "    </tr>\n",
       "    <tr>\n",
       "      <th>2</th>\n",
       "      <td>19</td>\n",
       "      <td>12.99</td>\n",
       "      <td>11</td>\n",
       "      <td>74</td>\n",
       "      <td>4.3</td>\n",
       "      <td>2</td>\n",
       "      <td>20</td>\n",
       "    </tr>\n",
       "    <tr>\n",
       "      <th>3</th>\n",
       "      <td>5</td>\n",
       "      <td>99.99</td>\n",
       "      <td>23</td>\n",
       "      <td>1032</td>\n",
       "      <td>3.6</td>\n",
       "      <td>0</td>\n",
       "      <td>20</td>\n",
       "    </tr>\n",
       "    <tr>\n",
       "      <th>4</th>\n",
       "      <td>5</td>\n",
       "      <td>79.99</td>\n",
       "      <td>14</td>\n",
       "      <td>744</td>\n",
       "      <td>3.2</td>\n",
       "      <td>1</td>\n",
       "      <td>20</td>\n",
       "    </tr>\n",
       "  </tbody>\n",
       "</table>\n",
       "</div>"
      ],
      "text/plain": [
       "   ages  list_price  num_reviews  piece_count  play_star_rating  \\\n",
       "0    19       29.99            2          277               4.0   \n",
       "1    19       19.99            2          168               4.0   \n",
       "2    19       12.99           11           74               4.3   \n",
       "3     5       99.99           23         1032               3.6   \n",
       "4     5       79.99           14          744               3.2   \n",
       "\n",
       "   review_difficulty  country  \n",
       "0                  0       20  \n",
       "1                  2       20  \n",
       "2                  2       20  \n",
       "3                  0       20  \n",
       "4                  1       20  "
      ]
     },
     "execution_count": 2,
     "metadata": {},
     "output_type": "execute_result"
    }
   ],
   "source": [
    "# import CSV file and view top five rows\n",
    "lego = pd.read_csv(\"lego.csv\")\n",
    "\n",
    "lego.head()"
   ]
  },
  {
   "cell_type": "code",
   "execution_count": 3,
   "id": "a072e59d-dbc1-42fb-a639-cb00a29d378e",
   "metadata": {},
   "outputs": [
    {
     "data": {
      "text/html": [
       "<div>\n",
       "<style scoped>\n",
       "    .dataframe tbody tr th:only-of-type {\n",
       "        vertical-align: middle;\n",
       "    }\n",
       "\n",
       "    .dataframe tbody tr th {\n",
       "        vertical-align: top;\n",
       "    }\n",
       "\n",
       "    .dataframe thead th {\n",
       "        text-align: right;\n",
       "    }\n",
       "</style>\n",
       "<table border=\"1\" class=\"dataframe\">\n",
       "  <thead>\n",
       "    <tr style=\"text-align: right;\">\n",
       "      <th></th>\n",
       "      <th>ages</th>\n",
       "      <th>list_price</th>\n",
       "      <th>num_reviews</th>\n",
       "      <th>piece_count</th>\n",
       "      <th>play_star_rating</th>\n",
       "      <th>review_difficulty</th>\n",
       "      <th>country</th>\n",
       "    </tr>\n",
       "  </thead>\n",
       "  <tbody>\n",
       "    <tr>\n",
       "      <th>count</th>\n",
       "      <td>12261.00000</td>\n",
       "      <td>12261.000000</td>\n",
       "      <td>12261.000000</td>\n",
       "      <td>12261.000000</td>\n",
       "      <td>12261.000000</td>\n",
       "      <td>12261.000000</td>\n",
       "      <td>12261.000000</td>\n",
       "    </tr>\n",
       "    <tr>\n",
       "      <th>mean</th>\n",
       "      <td>16.68828</td>\n",
       "      <td>65.141998</td>\n",
       "      <td>14.603050</td>\n",
       "      <td>493.405921</td>\n",
       "      <td>3.709689</td>\n",
       "      <td>1.988826</td>\n",
       "      <td>10.015333</td>\n",
       "    </tr>\n",
       "    <tr>\n",
       "      <th>std</th>\n",
       "      <td>8.21868</td>\n",
       "      <td>91.980429</td>\n",
       "      <td>34.356847</td>\n",
       "      <td>825.364580</td>\n",
       "      <td>1.641130</td>\n",
       "      <td>1.787565</td>\n",
       "      <td>6.185450</td>\n",
       "    </tr>\n",
       "    <tr>\n",
       "      <th>min</th>\n",
       "      <td>0.00000</td>\n",
       "      <td>2.272400</td>\n",
       "      <td>0.000000</td>\n",
       "      <td>1.000000</td>\n",
       "      <td>0.000000</td>\n",
       "      <td>0.000000</td>\n",
       "      <td>0.000000</td>\n",
       "    </tr>\n",
       "    <tr>\n",
       "      <th>25%</th>\n",
       "      <td>11.00000</td>\n",
       "      <td>19.990000</td>\n",
       "      <td>1.000000</td>\n",
       "      <td>97.000000</td>\n",
       "      <td>3.600000</td>\n",
       "      <td>0.000000</td>\n",
       "      <td>4.000000</td>\n",
       "    </tr>\n",
       "    <tr>\n",
       "      <th>50%</th>\n",
       "      <td>19.00000</td>\n",
       "      <td>36.587800</td>\n",
       "      <td>4.000000</td>\n",
       "      <td>216.000000</td>\n",
       "      <td>4.400000</td>\n",
       "      <td>2.000000</td>\n",
       "      <td>10.000000</td>\n",
       "    </tr>\n",
       "    <tr>\n",
       "      <th>75%</th>\n",
       "      <td>23.00000</td>\n",
       "      <td>70.192200</td>\n",
       "      <td>11.000000</td>\n",
       "      <td>544.000000</td>\n",
       "      <td>4.700000</td>\n",
       "      <td>4.000000</td>\n",
       "      <td>15.000000</td>\n",
       "    </tr>\n",
       "    <tr>\n",
       "      <th>max</th>\n",
       "      <td>30.00000</td>\n",
       "      <td>1104.870000</td>\n",
       "      <td>367.000000</td>\n",
       "      <td>7541.000000</td>\n",
       "      <td>5.000000</td>\n",
       "      <td>5.000000</td>\n",
       "      <td>20.000000</td>\n",
       "    </tr>\n",
       "  </tbody>\n",
       "</table>\n",
       "</div>"
      ],
      "text/plain": [
       "              ages    list_price   num_reviews   piece_count  \\\n",
       "count  12261.00000  12261.000000  12261.000000  12261.000000   \n",
       "mean      16.68828     65.141998     14.603050    493.405921   \n",
       "std        8.21868     91.980429     34.356847    825.364580   \n",
       "min        0.00000      2.272400      0.000000      1.000000   \n",
       "25%       11.00000     19.990000      1.000000     97.000000   \n",
       "50%       19.00000     36.587800      4.000000    216.000000   \n",
       "75%       23.00000     70.192200     11.000000    544.000000   \n",
       "max       30.00000   1104.870000    367.000000   7541.000000   \n",
       "\n",
       "       play_star_rating  review_difficulty       country  \n",
       "count      12261.000000       12261.000000  12261.000000  \n",
       "mean           3.709689           1.988826     10.015333  \n",
       "std            1.641130           1.787565      6.185450  \n",
       "min            0.000000           0.000000      0.000000  \n",
       "25%            3.600000           0.000000      4.000000  \n",
       "50%            4.400000           2.000000     10.000000  \n",
       "75%            4.700000           4.000000     15.000000  \n",
       "max            5.000000           5.000000     20.000000  "
      ]
     },
     "execution_count": 3,
     "metadata": {},
     "output_type": "execute_result"
    }
   ],
   "source": [
    "# describe data: exploratory stats \n",
    "lego.describe()"
   ]
  },
  {
   "cell_type": "code",
   "execution_count": 72,
   "id": "b6ceac5d-315e-4c93-8dc7-360a566d2a51",
   "metadata": {},
   "outputs": [
    {
     "name": "stdout",
     "output_type": "stream",
     "text": [
      "<class 'pandas.core.frame.DataFrame'>\n",
      "RangeIndex: 12261 entries, 0 to 12260\n",
      "Data columns (total 7 columns):\n",
      " #   Column             Non-Null Count  Dtype  \n",
      "---  ------             --------------  -----  \n",
      " 0   ages               12261 non-null  int64  \n",
      " 1   list_price         12261 non-null  float64\n",
      " 2   num_reviews        12261 non-null  int64  \n",
      " 3   piece_count        12261 non-null  int64  \n",
      " 4   play_star_rating   12261 non-null  float64\n",
      " 5   review_difficulty  12261 non-null  int64  \n",
      " 6   country            12261 non-null  int64  \n",
      "dtypes: float64(2), int64(5)\n",
      "memory usage: 670.6 KB\n"
     ]
    }
   ],
   "source": [
    "# describe data: data types, and dimensions\n",
    "lego.info()"
   ]
  },
  {
   "cell_type": "code",
   "execution_count": 5,
   "id": "7177c22d-30de-4529-ad49-3c4e33a09559",
   "metadata": {},
   "outputs": [
    {
     "data": {
      "text/plain": [
       "ages                 0\n",
       "list_price           0\n",
       "num_reviews          0\n",
       "piece_count          0\n",
       "play_star_rating     0\n",
       "review_difficulty    0\n",
       "country              0\n",
       "dtype: int64"
      ]
     },
     "execution_count": 5,
     "metadata": {},
     "output_type": "execute_result"
    }
   ],
   "source": [
    "# find missing value \n",
    "lego.isnull().sum()"
   ]
  },
  {
   "cell_type": "code",
   "execution_count": 6,
   "id": "885814b8-3a21-4c95-8f24-53ea8fa5c278",
   "metadata": {},
   "outputs": [
    {
     "name": "stdout",
     "output_type": "stream",
     "text": [
      "ages                 0.0000\n",
      "list_price           2.2724\n",
      "num_reviews          0.0000\n",
      "piece_count          1.0000\n",
      "play_star_rating     0.0000\n",
      "review_difficulty    0.0000\n",
      "country              0.0000\n",
      "dtype: float64\n",
      "ages                   30.00\n",
      "list_price           1104.87\n",
      "num_reviews           367.00\n",
      "piece_count          7541.00\n",
      "play_star_rating        5.00\n",
      "review_difficulty       5.00\n",
      "country                20.00\n",
      "dtype: float64\n"
     ]
    }
   ],
   "source": [
    "# view the minimum and maximum values for each column \n",
    "print(lego.min())\n",
    "print(lego.max())"
   ]
  },
  {
   "cell_type": "code",
   "execution_count": 73,
   "id": "3bcb6a7d-63d6-4582-ac3e-835ff56342d2",
   "metadata": {},
   "outputs": [
    {
     "data": {
      "text/plain": [
       "<matplotlib.collections.PathCollection at 0x7fc71815ceb0>"
      ]
     },
     "execution_count": 73,
     "metadata": {},
     "output_type": "execute_result"
    },
    {
     "data": {
      "image/png": "[encoded data removed]",
      "text/plain": [
       "<Figure size 432x288 with 1 Axes>"
      ]
     },
     "metadata": {
      "needs_background": "light"
     },
     "output_type": "display_data"
    }
   ],
   "source": [
    "# prelimenary visuals: What does the trend tell you about product pricing?\n",
    "x = lego['list_price']\n",
    "y= lego['piece_count']\n",
    "plt.scatter(x, y, color='green')"
   ]
  },
  {
   "cell_type": "code",
   "execution_count": 8,
   "id": "78787fe9-46ab-4c90-8c07-b7434a12517c",
   "metadata": {},
   "outputs": [
    {
     "data": {
      "text/plain": [
       "<seaborn.axisgrid.FacetGrid at 0x7fc74b9866d0>"
      ]
     },
     "execution_count": 8,
     "metadata": {},
     "output_type": "execute_result"
    },
    {
     "data": {
      "image/png": "[encoded data removed]",
      "text/plain": [
       "<Figure size 360x360 with 1 Axes>"
      ]
     },
     "metadata": {
      "needs_background": "light"
     },
     "output_type": "display_data"
    }
   ],
   "source": [
    "# display the distrobution of lego pricing \n",
    "# note that data is heavily skewed \n",
    "sns.displot(lego, x='list_price', binwidth=100)"
   ]
  },
  {
   "cell_type": "markdown",
   "id": "2d393e43-1ff3-4b3a-b257-929b3c2ee829",
   "metadata": {},
   "source": [
    "## simple linear regression "
   ]
  },
  {
   "cell_type": "markdown",
   "id": "8af6df0c-5e23-4ec1-a0b4-6d93d2b1219c",
   "metadata": {},
   "source": [
    "Set “piece count” as my independent (explanatory) variable and “price” as dependent variable. For my multiple regression analysis I added a third variable, “age” as an independent variable. \n"
   ]
  },
  {
   "cell_type": "code",
   "execution_count": 60,
   "id": "a6a10868-3253-4d98-9107-81bc22a5489c",
   "metadata": {},
   "outputs": [],
   "source": [
    "# set independant and dependant variables\n",
    "\n",
    "# dependant variable \n",
    "y = lego[\"list_price\"].values.reshape(-1, 1)\n",
    "\n",
    "# indepenant variable \n",
    "X = lego[[\"piece_count\"]].values.reshape(-1, 1)"
   ]
  },
  {
   "cell_type": "markdown",
   "id": "7cc4293d-b581-4eec-ba46-e3ebb4a0d62b",
   "metadata": {},
   "source": [
    "I split the dataset into training (70%) and test (30%) sets in order to train my model using the train_test_split module from sklearn. \n",
    "this enables to prevent overfitting and \n",
    " you want the training set to be as large as possible while leaving enough data in the test set to be done properly. "
   ]
  },
  {
   "cell_type": "code",
   "execution_count": 61,
   "id": "5828e4d0-a05c-4b28-b3e2-06c74cb7ee9d",
   "metadata": {},
   "outputs": [],
   "source": [
    "# split the data into training = 0.7 and testing = 0.3 subsets\n",
    "X_train, X_test, y_train, y_test = train_test_split(X, y,\n",
    "                                                    test_size=0.3,\n",
    "                                                    random_state=5)"
   ]
  },
  {
   "cell_type": "markdown",
   "id": "f5fd239c-f62b-4e81-8159-6bc36e8557cb",
   "metadata": {},
   "source": [
    "Create a regression model, fit the model and draw a prediction estimate for the training set. Calculate r_squared, intercept and coefficient values. "
   ]
  },
  {
   "cell_type": "code",
   "execution_count": 62,
   "id": "9b447d68-5ca8-4a73-9aa1-1e02bf39ef20",
   "metadata": {},
   "outputs": [
    {
     "data": {
      "text/plain": [
       "array([[104.93919847],\n",
       "       [ 38.73625412],\n",
       "       [ 25.24692586],\n",
       "       ...,\n",
       "       [ 28.49967168],\n",
       "       [ 26.4906228 ],\n",
       "       [ 44.85906978]])"
      ]
     },
     "execution_count": 62,
     "metadata": {},
     "output_type": "execute_result"
    }
   ],
   "source": [
    "# run a simple Linear Regression \n",
    "lm = LinearRegression()\n",
    "lm.fit(X_train, y_train) # fit the model\n",
    "y_pred = lm.predict(X_train) # call prediction\n",
    "y_pred"
   ]
  },
  {
   "cell_type": "code",
   "execution_count": 69,
   "id": "9e4bdf01-02de-45cf-9c27-e2281c2c5781",
   "metadata": {},
   "outputs": [
    {
     "name": "stdout",
     "output_type": "stream",
     "text": [
      "R_squared: 0.768190957297132\n",
      "Intercept: [17.49773729]\n",
      "Coefficients:\n"
     ]
    },
    {
     "data": {
      "text/plain": [
       "[(array([914]), array([0.09566899]))]"
      ]
     },
     "execution_count": 69,
     "metadata": {},
     "output_type": "execute_result"
    }
   ],
   "source": [
    "print(\"R_squared:\", lm.score(X_train,y_train))\n",
    "print(\"Intercept:\", lm.intercept_)\n",
    "print(\"Coefficients:\")\n",
    "list(zip(X_train, lm.coef_)) # map a similiar index of multiple containers "
   ]
  },
  {
   "cell_type": "code",
   "execution_count": 64,
   "id": "0e754724-8b01-4c63-9708-908523743db5",
   "metadata": {},
   "outputs": [
    {
     "data": {
      "image/png": "[encoded data removed]",
      "text/plain": [
       "<Figure size 432x288 with 1 Axes>"
      ]
     },
     "metadata": {
      "needs_background": "light"
     },
     "output_type": "display_data"
    }
   ],
   "source": [
    "# plot the training set  \n",
    "plt.scatter(X_train, y_train, color='blue')\n",
    "plt.plot(X_train, y_pred, color='red')\n",
    "\n",
    "plt.title(\"price vs number of lego pieces (Training Data)\")\n",
    "plt.xlabel(\"set price\")\n",
    "plt.ylabel(\"number of pieces\")\n",
    "\n",
    "plt.show()"
   ]
  },
  {
   "cell_type": "code",
   "execution_count": 74,
   "id": "99719822-6de1-429b-a1bc-1462955b8608",
   "metadata": {},
   "outputs": [
    {
     "name": "stdout",
     "output_type": "stream",
     "text": [
      "0.768190957297132\n",
      "0.7330385068354661\n"
     ]
    }
   ],
   "source": [
    "# calcualte the r2 value \n",
    "print(lm.score(X_train, y_train))"
   ]
  },
  {
   "cell_type": "markdown",
   "id": "e8b265ee-8231-4eda-b2c9-8a769080e428",
   "metadata": {},
   "source": [
    "\n",
    "### What price should be set for the Lego sets that have 8,000 Lego pieces?\n",
    "\n",
    "782.84 "
   ]
  },
  {
   "cell_type": "code",
   "execution_count": 76,
   "id": "4149a173-7ecd-4032-96fb-419888d884b0",
   "metadata": {},
   "outputs": [
    {
     "data": {
      "text/plain": [
       "array([[782.84969507]])"
      ]
     },
     "execution_count": 76,
     "metadata": {},
     "output_type": "execute_result"
    }
   ],
   "source": [
    "predicted_8k = lm.predict([[8000]])  \n",
    "predicted_8k"
   ]
  },
  {
   "cell_type": "markdown",
   "id": "17ababfa-a2ce-42bb-a7df-f6c73e77bd85",
   "metadata": {},
   "source": [
    "## Multiple linear regression"
   ]
  },
  {
   "cell_type": "code",
   "execution_count": 40,
   "id": "8dec87eb-7c51-4ddc-a00d-66021d0297a2",
   "metadata": {},
   "outputs": [],
   "source": [
    "# dependant variable \n",
    "yy = lego[\"list_price\"] \n",
    "#independant variable \n",
    "xx = lego[[\"piece_count\", \"ages\"]] "
   ]
  },
  {
   "cell_type": "code",
   "execution_count": 41,
   "id": "818d0515-fe2c-4a1a-97c5-41776226a921",
   "metadata": {},
   "outputs": [],
   "source": [
    "# create train and test data sets\n",
    "x_train, x_test, y_train, y_test = train_test_split(xx, yy, test_size=0.3, random_state=5)"
   ]
  },
  {
   "cell_type": "code",
   "execution_count": 53,
   "id": "b74514d1-a43d-4384-adf1-a9a34bafd0b9",
   "metadata": {},
   "outputs": [
    {
     "data": {
      "text/html": [
       "<style>#sk-container-id-1 {color: black;background-color: white;}#sk-container-id-1 pre{padding: 0;}#sk-container-id-1 div.sk-toggleable {background-color: white;}#sk-container-id-1 label.sk-toggleable__label {cursor: pointer;display: block;width: 100%;margin-bottom: 0;padding: 0.3em;box-sizing: border-box;text-align: center;}#sk-container-id-1 label.sk-toggleable__label-arrow:before {content: \"▸\";float: left;margin-right: 0.25em;color: #696969;}#sk-container-id-1 label.sk-toggleable__label-arrow:hover:before {color: black;}#sk-container-id-1 div.sk-estimator:hover label.sk-toggleable__label-arrow:before {color: black;}#sk-container-id-1 div.sk-toggleable__content {max-height: 0;max-width: 0;overflow: hidden;text-align: left;background-color: #f0f8ff;}#sk-container-id-1 div.sk-toggleable__content pre {margin: 0.2em;color: black;border-radius: 0.25em;background-color: #f0f8ff;}#sk-container-id-1 input.sk-toggleable__control:checked~div.sk-toggleable__content {max-height: 200px;max-width: 100%;overflow: auto;}#sk-container-id-1 input.sk-toggleable__control:checked~label.sk-toggleable__label-arrow:before {content: \"▾\";}#sk-container-id-1 div.sk-estimator input.sk-toggleable__control:checked~label.sk-toggleable__label {background-color: #d4ebff;}#sk-container-id-1 div.sk-label input.sk-toggleable__control:checked~label.sk-toggleable__label {background-color: #d4ebff;}#sk-container-id-1 input.sk-hidden--visually {border: 0;clip: rect(1px 1px 1px 1px);clip: rect(1px, 1px, 1px, 1px);height: 1px;margin: -1px;overflow: hidden;padding: 0;position: absolute;width: 1px;}#sk-container-id-1 div.sk-estimator {font-family: monospace;background-color: #f0f8ff;border: 1px dotted black;border-radius: 0.25em;box-sizing: border-box;margin-bottom: 0.5em;}#sk-container-id-1 div.sk-estimator:hover {background-color: #d4ebff;}#sk-container-id-1 div.sk-parallel-item::after {content: \"\";width: 100%;border-bottom: 1px solid gray;flex-grow: 1;}#sk-container-id-1 div.sk-label:hover label.sk-toggleable__label {background-color: #d4ebff;}#sk-container-id-1 div.sk-serial::before {content: \"\";position: absolute;border-left: 1px solid gray;box-sizing: border-box;top: 0;bottom: 0;left: 50%;z-index: 0;}#sk-container-id-1 div.sk-serial {display: flex;flex-direction: column;align-items: center;background-color: white;padding-right: 0.2em;padding-left: 0.2em;position: relative;}#sk-container-id-1 div.sk-item {position: relative;z-index: 1;}#sk-container-id-1 div.sk-parallel {display: flex;align-items: stretch;justify-content: center;background-color: white;position: relative;}#sk-container-id-1 div.sk-item::before, #sk-container-id-1 div.sk-parallel-item::before {content: \"\";position: absolute;border-left: 1px solid gray;box-sizing: border-box;top: 0;bottom: 0;left: 50%;z-index: -1;}#sk-container-id-1 div.sk-parallel-item {display: flex;flex-direction: column;z-index: 1;position: relative;background-color: white;}#sk-container-id-1 div.sk-parallel-item:first-child::after {align-self: flex-end;width: 50%;}#sk-container-id-1 div.sk-parallel-item:last-child::after {align-self: flex-start;width: 50%;}#sk-container-id-1 div.sk-parallel-item:only-child::after {width: 0;}#sk-container-id-1 div.sk-dashed-wrapped {border: 1px dashed gray;margin: 0 0.4em 0.5em 0.4em;box-sizing: border-box;padding-bottom: 0.4em;background-color: white;}#sk-container-id-1 div.sk-label label {font-family: monospace;font-weight: bold;display: inline-block;line-height: 1.2em;}#sk-container-id-1 div.sk-label-container {text-align: center;}#sk-container-id-1 div.sk-container {/* jupyter's `normalize.less` sets `[hidden] { display: none; }` but bootstrap.min.css set `[hidden] { display: none !important; }` so we also need the `!important` here to be able to override the default hidden behavior on the sphinx rendered scikit-learn.org. See: https://github.com/scikit-learn/scikit-learn/issues/21755 */display: inline-block !important;position: relative;}#sk-container-id-1 div.sk-text-repr-fallback {display: none;}</style><div id=\"sk-container-id-1\" class=\"sk-top-container\"><div class=\"sk-text-repr-fallback\"><pre>LinearRegression()</pre><b>In a Jupyter environment, please rerun this cell to show the HTML representation or trust the notebook. <br />On GitHub, the HTML representation is unable to render, please try loading this page with nbviewer.org.</b></div><div class=\"sk-container\" hidden><div class=\"sk-item\"><div class=\"sk-estimator sk-toggleable\"><input class=\"sk-toggleable__control sk-hidden--visually\" id=\"sk-estimator-id-1\" type=\"checkbox\" checked><label for=\"sk-estimator-id-1\" class=\"sk-toggleable__label sk-toggleable__label-arrow\">LinearRegression</label><div class=\"sk-toggleable__content\"><pre>LinearRegression()</pre></div></div></div></div></div>"
      ],
      "text/plain": [
       "LinearRegression()"
      ]
     },
     "execution_count": 53,
     "metadata": {},
     "output_type": "execute_result"
    }
   ],
   "source": [
    "# Run a Multiple Linear Regression\n",
    "multi = LinearRegression()\n",
    "\n",
    "# fit the model \n",
    "multi.fit(x_train, y_train)"
   ]
  },
  {
   "cell_type": "code",
   "execution_count": 54,
   "id": "765aa6d6-4400-4795-a813-eda25cf8186b",
   "metadata": {},
   "outputs": [
    {
     "data": {
      "text/plain": [
       "array([105.31946916,  38.79803594,  25.21506289, ...,  28.52852519,\n",
       "        26.36951271,  44.92267922])"
      ]
     },
     "execution_count": 54,
     "metadata": {},
     "output_type": "execute_result"
    }
   ],
   "source": [
    " # call the prediction  \n",
    "multi.predict(x_train)"
   ]
  },
  {
   "cell_type": "code",
   "execution_count": 55,
   "id": "16a7a743-214e-47e5-bcbd-648bc2810d2a",
   "metadata": {},
   "outputs": [
    {
     "name": "stdout",
     "output_type": "stream",
     "text": [
      "R-squared:  0.7681985466459664\n",
      "Intercept:  16.985596749203417\n",
      "Coefficients:\n"
     ]
    },
    {
     "data": {
      "text/plain": [
       "[('piece_count', 0.09569755116044504), ('ages', 0.02987278094702156)]"
      ]
     },
     "execution_count": 55,
     "metadata": {},
     "output_type": "execute_result"
    }
   ],
   "source": [
    "# Checking the value of R-squared, intercept and coefficients\n",
    "print(\"R-squared: \", multi.score(x_train, y_train))\n",
    "print(\"Intercept: \", multi.intercept_)\n",
    "print(\"Coefficients:\")\n",
    "list(zip(x_train, multi.coef_))"
   ]
  },
  {
   "cell_type": "markdown",
   "id": "bdf4a27f-e9b9-4565-813d-9d9422ae68bd",
   "metadata": {},
   "source": [
    "After fitting the model to the train datset I will evaluate the performance of the model using the test data. I predict the test data and compare the predictions with actual test values."
   ]
  },
  {
   "cell_type": "code",
   "execution_count": 77,
   "id": "52d227ba-fb38-429c-94e0-1b5a425fff44",
   "metadata": {},
   "outputs": [
    {
     "name": "stdout",
     "output_type": "stream",
     "text": [
      "0.7344069243325273\n"
     ]
    }
   ],
   "source": [
    "## Test the accuracy of the linear model by running the regression model for the test set. \n",
    "\n",
    "# Linear regression; fitting the model.\n",
    "multi.fit(x_test,y_test) \n",
    "\n",
    "# Predict the test set values.\n",
    "y_pred = multi.predict(x_test) \n",
    "\n",
    "y_pred \n",
    "\n",
    "# Print R-squared value of the test data.\n",
    "print(multi.score(x_test,y_test)) \n",
    "\n",
    "\n",
    "# the output here is very close to the r2 of the training set (0.768190957297132) which allows me to conclude my is acurate. "
   ]
  },
  {
   "cell_type": "markdown",
   "id": "3594bdd1-86a2-4957-a5ae-e61f4a340e64",
   "metadata": {},
   "source": [
    " \n",
    "### What price should be set for the Lego sets with 8000 Lego pieces that are most likely to be purchased by 30-year-old customers? \n",
    " 253.31"
   ]
  },
  {
   "cell_type": "code",
   "execution_count": 78,
   "id": "a4ab3bb9-909e-48b9-8204-3314031473f3",
   "metadata": {},
   "outputs": [
    {
     "name": "stdout",
     "output_type": "stream",
     "text": [
      "Predicted Value: \n",
      " [[253.3184827]]\n"
     ]
    },
    {
     "name": "stderr",
     "output_type": "stream",
     "text": [
      "/Users/mohabarikbin/opt/anaconda3/lib/python3.9/site-packages/sklearn/base.py:450: UserWarning: X does not have valid feature names, but LinearRegression was fitted with feature names\n",
      "  warnings.warn(\n"
     ]
    }
   ],
   "source": [
    "# make predictions\n",
    "v1 = 30\n",
    "v2 = 8000\n",
    "print ('Predicted Value: \\n', multi.predict([[v1 ,v2]]))  "
   ]
  },
  {
   "cell_type": "code",
   "execution_count": null,
   "id": "1820671f-8cab-4fc1-906f-f584f41a716f",
   "metadata": {},
   "outputs": [],
   "source": []
  },
  {
   "cell_type": "code",
   "execution_count": null,
   "id": "dfc01ff2-f711-48eb-bf4d-0f19d88f82a0",
   "metadata": {},
   "outputs": [],
   "source": []
  },
  {
   "cell_type": "markdown",
   "id": "b7439fc1-caed-4f89-ab34-5a1bec2867ea",
   "metadata": {},
   "source": []
  },
  {
   "cell_type": "code",
   "execution_count": null,
   "id": "80b8dd0b-4f5e-4a06-83f0-7f5898a21f5d",
   "metadata": {},
   "outputs": [],
   "source": []
  },
  {
   "cell_type": "markdown",
   "id": "9c44cccd-2a41-4c03-8b33-248b832b75db",
   "metadata": {},
   "source": []
  },
  {
   "cell_type": "code",
   "execution_count": 36,
   "id": "db783092-fad1-4964-9f8e-130b17aad3f3",
   "metadata": {},
   "outputs": [],
   "source": [
    "\n"
   ]
  },
  {
   "cell_type": "code",
   "execution_count": null,
   "id": "ea3bb466-e86b-4c60-920e-f0b0a05c7017",
   "metadata": {},
   "outputs": [],
   "source": []
  },
  {
   "cell_type": "code",
   "execution_count": null,
   "id": "0926bad2-02ef-4d39-affa-a762a1693a50",
   "metadata": {},
   "outputs": [],
   "source": []
  }
 ],
 "metadata": {
  "kernelspec": {
   "display_name": "Python 3 (ipykernel)",
   "language": "python",
   "name": "python3"
  },
  "language_info": {
   "codemirror_mode": {
    "name": "ipython",
    "version": 3
   },
   "file_extension": ".py",
   "mimetype": "text/x-python",
   "name": "python",
   "nbconvert_exporter": "python",
   "pygments_lexer": "ipython3",
   "version": "3.9.7"
  }
 },
 "nbformat": 4,
 "nbformat_minor": 5
}
